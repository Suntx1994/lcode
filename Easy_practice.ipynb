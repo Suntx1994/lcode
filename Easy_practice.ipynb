{
 "cells": [
  {
   "cell_type": "markdown",
   "metadata": {},
   "source": [
    "## 476 Number Complement"
   ]
  },
  {
   "cell_type": "code",
   "execution_count": 1,
   "metadata": {},
   "outputs": [
    {
     "name": "stdout",
     "output_type": "stream",
     "text": [
      "2\n"
     ]
    }
   ],
   "source": [
    "class Solution():\n",
    "    def findComplement(self,num):\n",
    "        if num == 0:\n",
    "            return 1;\n",
    "        elif num == 1:\n",
    "            return 0;\n",
    "        else:\n",
    "            binary = bin(num);\n",
    "            leng = len(binary);\n",
    "            n_bin = binary.replace('0','2');\n",
    "            nn_bin = n_bin.replace('1','0');\n",
    "            f_bin = nn_bin.replace('2','1');\n",
    "            result = f_bin[0].replace('1','0') + f_bin[1:];\n",
    "            result = int(result,2);\n",
    "            return result;\n",
    "    \n",
    "case = Solution();\n",
    "num = 5;\n",
    "print(case.findComplement(num));"
   ]
  },
  {
   "cell_type": "code",
   "execution_count": null,
   "metadata": {},
   "outputs": [],
   "source": []
  }
 ],
 "metadata": {
  "kernelspec": {
   "display_name": "Python 3",
   "language": "python",
   "name": "python3"
  },
  "language_info": {
   "codemirror_mode": {
    "name": "ipython",
    "version": 3
   },
   "file_extension": ".py",
   "mimetype": "text/x-python",
   "name": "python",
   "nbconvert_exporter": "python",
   "pygments_lexer": "ipython3",
   "version": "3.7.0"
  }
 },
 "nbformat": 4,
 "nbformat_minor": 2
}
