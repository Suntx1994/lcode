{
 "cells": [
  {
   "cell_type": "markdown",
   "metadata": {},
   "source": [
    "## 476 Number Complement"
   ]
  },
  {
   "cell_type": "code",
   "execution_count": 4,
   "metadata": {},
   "outputs": [
    {
     "name": "stdout",
     "output_type": "stream",
     "text": [
      "2\n"
     ]
    }
   ],
   "source": [
    "class Solution():\n",
    "    def findComplement(self,num):\n",
    "        if num == 0:\n",
    "            return 1;\n",
    "        elif num == 1:\n",
    "            return 0;\n",
    "        else:\n",
    "            binary = bin(num);\n",
    "            leng = len(binary);\n",
    "            n_bin = binary.replace('0','2');\n",
    "            nn_bin = n_bin.replace('1','0');\n",
    "            f_bin = nn_bin.replace('2','1');\n",
    "            result = f_bin[0].replace('1','0') + f_bin[1:];\n",
    "            result = int(result,2);\n",
    "            return result;\n",
    "        \n",
    "        \n",
    "    def better_method(self,num):\n",
    "        i = 1\n",
    "        while i <= num:\n",
    "            i = i << 1\n",
    "        return num ^ (i-1);\n",
    "\n",
    "    \n",
    "case = Solution();\n",
    "num = 5;\n",
    "print(case.findComplement(num));"
   ]
  },
  {
   "cell_type": "markdown",
   "metadata": {},
   "source": [
    "## 893. Groups of Special-Equivalent Strings"
   ]
  },
  {
   "cell_type": "code",
   "execution_count": 5,
   "metadata": {},
   "outputs": [],
   "source": [
    "class Solution(object):\n",
    "    def numSpecialEquivGroups(self, A):\n",
    "        \"\"\"\n",
    "        :type A: List[str]\n",
    "        :rtype: int\n",
    "        \"\"\"\n",
    "        B = set();\n",
    "        for i in A:\n",
    "            B.add(''.join(sorted(i[0::2]))+''.join(sorted(i[1::2])));\n",
    "        return len(B);\n",
    "            "
   ]
  },
  {
   "cell_type": "markdown",
   "metadata": {},
   "source": [
    "## keyboard row"
   ]
  },
  {
   "cell_type": "code",
   "execution_count": 6,
   "metadata": {},
   "outputs": [],
   "source": [
    "class Solution():\n",
    "    def findRow(self,words):\n",
    "        rowdict = {};\n",
    "        for c in \"qwertyuiopQWERTYUIOP\":\n",
    "            rowdict[c] = 1;\n",
    "        for c in \"asdfghjklASDFGHJKL\":\n",
    "            rowdict[c] = 2;\n",
    "        for c in \"zxcvbnmZXCVBNM\":\n",
    "            rowdict[c] = 3;\n",
    "        res = [];\n",
    "        for w in words:\n",
    "            if len(set(rowdict[c] for c in w))==1:\n",
    "                res.append(w);\n",
    "        return res"
   ]
  },
  {
   "cell_type": "markdown",
   "metadata": {},
   "source": [
    "## Toeplitz Matrix"
   ]
  },
  {
   "cell_type": "code",
   "execution_count": 7,
   "metadata": {},
   "outputs": [],
   "source": [
    "class Solution(object):\n",
    "    # first solution_Diagonal\n",
    "    def isToeplitzMatrix_1(self, matrix):\n",
    "        \"\"\"\n",
    "        :type matrix: List[List[int]]\n",
    "        :rtype: bool\n",
    "        \"\"\"\n",
    "        for row in range(len(matrix)-1):\n",
    "            for col in range(len(matrix[0])-1):\n",
    "                if matrix[row][col] != matrix[row+1][col+1]:\n",
    "                    return False;\n",
    "        return True;\n",
    "    #second solution_ Slice\n",
    "    def isToeplitzMatrix_2(self, matrix):\n",
    "        \"\"\"\n",
    "        :type matrix: List[List[int]]\n",
    "        :rtype: bool\n",
    "        \"\"\"\n",
    "        test =True;\n",
    "        for row in range(len(matrix)-1):\n",
    "            if matrix[row][:-1] != matrix[row+1][1:]:\n",
    "                test = False;\n",
    "        return test;\n",
    "    \n",
    "    \n",
    "    \n",
    "    \n",
    "    \n",
    "    "
   ]
  },
  {
   "cell_type": "markdown",
   "metadata": {},
   "source": [
    "## Baseball game some thought\n",
    "### No correct ans"
   ]
  },
  {
   "cell_type": "code",
   "execution_count": 25,
   "metadata": {
    "scrolled": false
   },
   "outputs": [
    {
     "name": "stdout",
     "output_type": "stream",
     "text": [
      "20245\n"
     ]
    }
   ],
   "source": [
    "class Solution(object):\n",
    "    def calPoints(self, ops):\n",
    "        \"\"\"\n",
    "        :type ops: List[str]\n",
    "        :rtype: int\n",
    "        \"\"\"\n",
    "        leng = len(ops);\n",
    "        if leng == 0:\n",
    "            return 0;\n",
    "        cur_r = 0;\n",
    "        last_r = 0;\n",
    "        llast_r = 0;\n",
    "        Sum = 0;\n",
    "        for i in range(leng):\n",
    "            if i == 0:\n",
    "                if ops[i] !='C' or 'D' or '+':\n",
    "                    cur_r = int(ops[i]);\n",
    "                    Sum = cur_r;\n",
    "            else:\n",
    "                if ops[i] == '+':\n",
    "                    tmp1 = cur_r;\n",
    "                    cur_r = cur_r + last_r\n",
    "                    llast_r = last_r;\n",
    "                    last_r = tmp1;\n",
    "                    Sum = Sum + cur_r;\n",
    "                elif ops[i] == 'C':\n",
    "                    Sum = Sum - cur_r;\n",
    "                    cur_r = last_r;\n",
    "                    last_r = llast_r;\n",
    "                elif  ops[i] == 'D':\n",
    "                    tmp1 = cur_r;\n",
    "                    cur_r = cur_r *2;\n",
    "                    llast_r = last_r;\n",
    "                    last_r = tmp1;\n",
    "                    Sum = Sum + cur_r;\n",
    "                else:\n",
    "                    llast_r = last_r;\n",
    "                    last_r = cur_r;\n",
    "                    cur_r = int(ops[i]);\n",
    "                    Sum = Sum + cur_r;\n",
    "            \n",
    "        return Sum;\n",
    "    \n",
    "case = Solution();\n",
    "inp = [\"8373\",\"C\",\"9034\",\"-17523\",\"D\",\"1492\",\"7558\",\"-5022\",\"C\",\"C\",\"+\",\"+\",\"-16000\",\"C\",\"+\",\"-18694\",\"C\",\"C\",\"C\",\"-19377\",\"D\",\"-25250\",\"20356\",\"C\",\"-1769\",\"-8303\",\"C\",\"-25332\",\"29884\",\"C\",\"+\",\"C\",\"-29875\",\"-15374\",\"C\",\"+\",\"14584\",\"13773\",\"+\",\"17037\",\"-28248\",\"+\",\"16822\",\"D\",\"+\",\"+\",\"-19357\",\"-26593\",\"-8548\",\"4776\",\"D\",\"-8244\",\"378\",\"+\",\"-19269\",\"-25447\",\"18922\",\"-16782\",\"2886\",\"C\",\"-17788\",\"D\",\"-22256\",\"C\",\"308\",\"-9185\",\"-19074\",\"1528\",\"28424\",\"D\",\"8658\",\"C\",\"7221\",\"-13704\",\"8995\",\"-21650\",\"22567\",\"-29560\",\"D\",\"-9807\",\"25632\",\"6817\",\"28654\",\"D\",\"-18574\",\"C\",\"D\",\"20103\",\"7875\",\"C\",\"9911\",\"23951\",\"C\",\"D\",\"C\",\"+\",\"18219\",\"-20922\",\"D\",\"-24923\"]\n",
    "result = case.calPoints(inp)\n",
    "print(result);"
   ]
  },
  {
   "cell_type": "markdown",
   "metadata": {},
   "source": [
    "## Baseball Game"
   ]
  },
  {
   "cell_type": "code",
   "execution_count": null,
   "metadata": {},
   "outputs": [],
   "source": [
    "class Solution(object):\n",
    "    def calPoints(self, ops):\n",
    "        \"\"\"\n",
    "        :type ops: List[str]\n",
    "        :rtype: int\n",
    "        \"\"\"\n",
    "        v = [];\n",
    "        for op in ops:\n",
    "            if op == 'C':\n",
    "                v.pop();\n",
    "            elif op == 'D':\n",
    "                v.append(v[-1]*2);\n",
    "            elif op == '+':\n",
    "                v.append(v[-1]+v[-2]);\n",
    "            else:\n",
    "                v.append(int(op));\n",
    "        return sum(v);\n",
    "            "
   ]
  },
  {
   "cell_type": "markdown",
   "metadata": {},
   "source": [
    "## 884 Uncommon Words from two Sentences"
   ]
  },
  {
   "cell_type": "code",
   "execution_count": 26,
   "metadata": {},
   "outputs": [
    {
     "name": "stdout",
     "output_type": "stream",
     "text": [
      "['sweet', 'sour']\n"
     ]
    }
   ],
   "source": [
    "from collections import Counter\n",
    "class Solution(object):\n",
    "    def uncommonFromSentences(self, A, B):\n",
    "        \"\"\"\n",
    "        :type A: str\n",
    "        :type B: str\n",
    "        :rtype: List[str]\n",
    "        \"\"\"\n",
    "        result = []\n",
    "        counterA = Counter(A.split())\n",
    "        \n",
    "        counterB = Counter(B.split())\n",
    "        for k,v in counterA.items():\n",
    "            if v==1 and k not in counterB:\n",
    "                result.append(k)\n",
    "        for k, v in counterB.items():\n",
    "            if v==1 and k not in counterA:\n",
    "                result.append(k)\n",
    "        return result\n",
    "        \n",
    "ans =Solution();\n",
    "A = 'this apple is sweet';\n",
    "B = 'this apple is sour';\n",
    "print(ans.uncommonFromSentences(A,B))"
   ]
  },
  {
   "cell_type": "markdown",
   "metadata": {},
   "source": [
    "# binary_search_tree"
   ]
  },
  {
   "cell_type": "code",
   "execution_count": 27,
   "metadata": {},
   "outputs": [
    {
     "name": "stdout",
     "output_type": "stream",
     "text": [
      "[5, 15, 10, 25, 35, 30, 20]\n"
     ]
    }
   ],
   "source": [
    "class BST():\n",
    "    def __init__(self,val):\n",
    "        self.val = val;\n",
    "        self.left = None;\n",
    "        self.right = None;\n",
    "    def insert(self,val):\n",
    "        if self.val:\n",
    "            if val > self.val:\n",
    "                if self.right is None:\n",
    "                    self.right = BST(val);\n",
    "                else:\n",
    "                    self.right.insert(val);\n",
    "            elif val < self.val:\n",
    "                if self.left is None:\n",
    "                    self.left = BST(val);\n",
    "                else:\n",
    "                    self.left.insert(val);\n",
    "        else:\n",
    "            self.val = val;\n",
    "            \n",
    "    def preorder(self,root):\n",
    "        res = [];\n",
    "        if root is not None:\n",
    "            res.append(root.val);\n",
    "            res += self.preorder(root.left);\n",
    "            res += self.preorder(root.right);\n",
    "        return res;\n",
    "    def postorder(self,root):\n",
    "        res = [];\n",
    "        if root is not None:\n",
    "            res += self.postorder(root.left);\n",
    "            res += self.postorder(root.right);\n",
    "            res.append(root.val);\n",
    "        return res;\n",
    "        \n",
    "            \n",
    "            \n",
    "            \n",
    "case = BST(20);\n",
    "case.insert(10);\n",
    "case.insert(30);\n",
    "case.insert(5);\n",
    "case.insert(15);\n",
    "case.insert(25);\n",
    "case.insert(35);\n",
    "print(case.postorder(case));\n"
   ]
  },
  {
   "cell_type": "markdown",
   "metadata": {},
   "source": [
    "## linked_list"
   ]
  },
  {
   "cell_type": "code",
   "execution_count": 28,
   "metadata": {},
   "outputs": [
    {
     "name": "stdout",
     "output_type": "stream",
     "text": [
      "9\n",
      "3\n"
     ]
    }
   ],
   "source": [
    "class Node():\n",
    "    def __init__(self,val):\n",
    "        self.val = val;\n",
    "        self.next = None;\n",
    "class linked_list():\n",
    "    def __init__(self):\n",
    "        self.head = None;\n",
    "        self.tail = None;\n",
    "    def append(self,val):\n",
    "        node = Node(val);\n",
    "        if self.head is None:\n",
    "            self.head = node;\n",
    "            self.tail = node;\n",
    "        self.tail.next = node;\n",
    "        self.tail = node;\n",
    "    def is_empty(self):\n",
    "        if self.head is None:\n",
    "            print(\"Empty list\");\n",
    "        else:\n",
    "            return 1;\n",
    "    def insert(self,val,idx):\n",
    "        cur = self.head;\n",
    "        cur_idx = 0;\n",
    "        if cur is None:\n",
    "            raise Exception(\"Not existing list\");\n",
    "        while cur_idx < idx-1:\n",
    "            cur = cur.next;\n",
    "            if cur is None:\n",
    "                print(\"Not long enough list\");\n",
    "            cur_idx +=1;\n",
    "        node = Node(val);\n",
    "        node.next = cur.next;\n",
    "        cur.next = node;\n",
    "        if node.next is None:\n",
    "            self.tail = node;\n",
    "            \n",
    "    def remove(self,idx):\n",
    "        cur = self.head;\n",
    "        cur_idx = 0;\n",
    "        if cur is None:\n",
    "            print(\"Not exist list\");\n",
    "        while cur_idx < idx -1:\n",
    "            cur = cur.next;\n",
    "            if cur is None:\n",
    "                print(\"Not long enough list\");\n",
    "            cur_idx += 1;\n",
    "        if idx == 0:\n",
    "            self.head = cur.next;\n",
    "        if self.head is self.tail:\n",
    "            self.head = None;\n",
    "            self.tail = None;\n",
    "        cur.next = cur.next.next;\n",
    "        if cur.next is None:\n",
    "            self.tail = cur;\n",
    "            \n",
    "    def track(self):\n",
    "        if self.head is None:\n",
    "            print(\"Not exist list\");\n",
    "        print(self.head.val);\n",
    "        cur = self.head;\n",
    "        while cur.next is not None:\n",
    "            cur = cur.next;\n",
    "            print(cur.val);\n",
    "        \n",
    "        \n",
    "        \n",
    "ans = linked_list();\n",
    "ans.append(10);\n",
    "ans.append(3);\n",
    "ans.append(25);\n",
    "ans.insert(9,1);\n",
    "ans.remove(3);\n",
    "ans.remove(0);\n",
    "ans.track();"
   ]
  },
  {
   "cell_type": "code",
   "execution_count": null,
   "metadata": {},
   "outputs": [],
   "source": []
  }
 ],
 "metadata": {
  "kernelspec": {
   "display_name": "Python 3",
   "language": "python",
   "name": "python3"
  },
  "language_info": {
   "codemirror_mode": {
    "name": "ipython",
    "version": 3
   },
   "file_extension": ".py",
   "mimetype": "text/x-python",
   "name": "python",
   "nbconvert_exporter": "python",
   "pygments_lexer": "ipython3",
   "version": "3.7.0"
  }
 },
 "nbformat": 4,
 "nbformat_minor": 2
}
