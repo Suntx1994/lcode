{
 "cells": [
  {
   "cell_type": "markdown",
   "metadata": {},
   "source": [
    "# Dynamic programming"
   ]
  },
  {
   "cell_type": "markdown",
   "metadata": {},
   "source": [
    "### 1.LPS Longest Palindromic Subsequence"
   ]
  },
  {
   "cell_type": "code",
   "execution_count": 1,
   "metadata": {},
   "outputs": [
    {
     "name": "stdout",
     "output_type": "stream",
     "text": [
      "2\n"
     ]
    }
   ],
   "source": [
    "class dynamic_programming():\n",
    "    def lps(self,string):\n",
    "        leng = len(string);\n",
    "        if leng <= 1:\n",
    "            return string;\n",
    "        else:\n",
    "            table = [[0 for x in range(leng)] for x in range(leng)];\n",
    "            for i in range(leng):\n",
    "                table[i][i] = 1;\n",
    "            for s in range(2,leng + 1):\n",
    "                for i in range(leng - s + 1):\n",
    "                    j = i + s - 1;\n",
    "                    if string[i] == string[j] and s == 2:\n",
    "                        table[i][j] = 2;\n",
    "                    elif string[i] == string[j]:\n",
    "                        table[i][j] = 2 + table[i+1][j-1];\n",
    "                    elif string[i] != string[j]:\n",
    "                        table[i][j] = max(table[i][j-1],table[i+1][j])\n",
    "            return table[0][leng-1];\n",
    "\n",
    "case = dynamic_programming();\n",
    "string = 'cbbd';\n",
    "print(case.lps(string));"
   ]
  },
  {
   "cell_type": "markdown",
   "metadata": {},
   "source": [
    "## longest_palindromic_substring/subsequence"
   ]
  },
  {
   "cell_type": "code",
   "execution_count": 7,
   "metadata": {},
   "outputs": [
    {
     "name": "stdout",
     "output_type": "stream",
     "text": [
      "12\n"
     ]
    }
   ],
   "source": [
    "class longest_pal():\n",
    "    def substring_1(self,string):\n",
    "        leng = len(string);\n",
    "        #initial the table\n",
    "        table = [[0 for x in range(leng)] for x in range(leng)];\n",
    "        #length of substring is 1\n",
    "        max_leng = 1;\n",
    "        for i in range(leng):\n",
    "            table[i][i] = True;\n",
    "        #length of substring is two\n",
    "        start = 0;\n",
    "        for i in range(0,leng-1):\n",
    "            if string[i] == string[i+1]:\n",
    "                table[i][i+1] = True\n",
    "                start = i;\n",
    "                max_leng = 2;\n",
    "        #the other length\n",
    "        for l in range(3,leng+1):\n",
    "            for i in range(0,leng-l+1):\n",
    "                j = i+l-1;\n",
    "                if table[i+1][j-1] and string[i] == string[j]:\n",
    "                    table[i][j] = True;\n",
    "                    if l > max_leng:\n",
    "                        start = i;\n",
    "                        max_length = l;\n",
    "        print(string[start:start+max_length]);\n",
    "        return max_length;\n",
    "    def substring_2(self,string):\n",
    "        max_leng = 0;\n",
    "        start = 0;\n",
    "        leng = len(string);\n",
    "        low = 0;\n",
    "        high = 0;\n",
    "        \n",
    "        for i in range(1,leng):\n",
    "            #even\n",
    "            low = i-1;\n",
    "            high = i;\n",
    "            while low >= 0 and high <leng and string[low] == string[high]:\n",
    "                if high-low+1 > max_leng:\n",
    "                    start = low;\n",
    "                    max_leng = high-low+1;\n",
    "                low = low-1;\n",
    "                high = high+1;\n",
    "            #odd\n",
    "            low = i -1;\n",
    "            high = i+1;\n",
    "            while low >= 0 and high < leng and string[low] == string[high]:\n",
    "                if high-low+1 > max_leng:\n",
    "                    start = low;\n",
    "                    max_leng = high-low+1;\n",
    "                low = low-1;\n",
    "                high = high+1;\n",
    "        print(string[start:start+max_leng]);\n",
    "        return max_leng;\n",
    "    def subsequence(self,string):\n",
    "        leng = len(string);\n",
    "        #initial the table\n",
    "        table = [[0 for x in range(leng)] for x in range(leng)];\n",
    "        # length equals to one\n",
    "        for i in range(leng):\n",
    "            table[i][i] = 1;\n",
    "        #the other length\n",
    "        for l in range(2,leng+1):\n",
    "            for i in range(0,leng-l+1):\n",
    "                j = i+l-1;\n",
    "                if leng == 2 and string[i] == string[j]:\n",
    "                    table[i][j] = 2;\n",
    "                elif string[i] == string[j]:\n",
    "                    table[i][j] = 2+table[i+1][j-1];\n",
    "                elif string[i] != string[j]:\n",
    "                    table[i][j] = max(table[i+1][j],table[i][j-1]);\n",
    "        return table[0][leng-1];\n",
    "    \n",
    "    \n",
    "    \n",
    "case = longest_pal();\n",
    "string = 'forgeeksskeegfor';\n",
    "print(case.subsequence(string));"
   ]
  },
  {
   "cell_type": "code",
   "execution_count": 10,
   "metadata": {},
   "outputs": [
    {
     "name": "stdout",
     "output_type": "stream",
     "text": [
      "4\n"
     ]
    }
   ],
   "source": [
    "class lcs():\n",
    "    def longest_common_sequence(self,str1,str2):\n",
    "        len1 = len(str1);\n",
    "        len2 = len(str2);\n",
    "        #initial the table\n",
    "        table = [[None for x in range(len2+1)] for x in range(len1+1)];\n",
    "        for i in range(len1+1):\n",
    "            for j in range(len2+1):\n",
    "                if i == 0 or j == 0:\n",
    "                    table[i][j] = 0;\n",
    "                elif str1[i-1] == str2[j-1]:\n",
    "                    table[i][j] = 1 + table[i-1][j-1];\n",
    "                elif str1[i-1] != str2[j-1]:\n",
    "                    table[i][j] = max(table[i-1][j],table[i][j-1]);\n",
    "        return table[len1][len2];\n",
    "    \n",
    "case = lcs();\n",
    "string1 = 'aggtab';\n",
    "string2 = 'gxtxayb';\n",
    "print(case.longest_common_sequence(string1,string2));"
   ]
  },
  {
   "cell_type": "markdown",
   "metadata": {},
   "source": [
    "## regular expression matching"
   ]
  },
  {
   "cell_type": "code",
   "execution_count": 16,
   "metadata": {},
   "outputs": [
    {
     "name": "stdout",
     "output_type": "stream",
     "text": [
      "[[True, False, False, False], [False, False, False, False], [True, False, False, False], [False, True, False, False], [True, True, True, False], [False, False, False, True]]\n"
     ]
    }
   ],
   "source": [
    "class re_match():\n",
    "    def rem(self,string,pattern):\n",
    "        len1 = len(pattern);\n",
    "        len2 = len(string);\n",
    "        #initial table \n",
    "        table = [[None for x in range(len2+1)] for x in range(len1+1)];\n",
    "        #length is zero \n",
    "        table[0][0] = True;\n",
    "        for i in range(1,len1+1):\n",
    "            if pattern[i-1] != '*':\n",
    "                table[i][0] = False;\n",
    "            elif pattern[i-1] == '*':\n",
    "                table[i][0] = table[i-2][0];\n",
    "        for j in range(1,len2+1):\n",
    "            table[0][j] = False;\n",
    "        #else\n",
    "        for i in range(1,len1+1):\n",
    "            for j in range(1,len2+1):\n",
    "                if pattern[i-1] == string[j-1] or pattern[i-1] == '.':\n",
    "                    table[i][j] = table[i-1][j-1];\n",
    "                elif pattern[i-1] != '*' and pattern[i-1] != string[j-1]:\n",
    "                    table[i][j] = False;\n",
    "                elif pattern[i-1] == '*':\n",
    "                    if pattern[i-2] != string[j-1]:\n",
    "                        table[i][j] = table[i-2][j];\n",
    "                    elif pattern[i-2] == string[j-1]:\n",
    "                        table[i][j] = table[i][j-1];\n",
    "                \n",
    "        return table;\n",
    "case = re_match();\n",
    "s = 'aab';\n",
    "p = 'c*a*b';\n",
    "print(case.rem(s,p));\n"
   ]
  },
  {
   "cell_type": "markdown",
   "metadata": {},
   "source": [
    "## longest valid parenthese"
   ]
  },
  {
   "cell_type": "code",
   "execution_count": 17,
   "metadata": {},
   "outputs": [
    {
     "name": "stdout",
     "output_type": "stream",
     "text": [
      "[0, 0, 0, 0, 0, 0, 2, 4, 4, 6, 8]\n"
     ]
    }
   ],
   "source": [
    "class longest_parenthese():\n",
    "    def lps(self,string):\n",
    "        leng = len(string);\n",
    "        #initial table \n",
    "        table = [0 for x in range(leng)];\n",
    "        tmp = 0;\n",
    "        if string[0] == '(':\n",
    "            tmp = 1;\n",
    "        for i in range(1,leng):\n",
    "            \n",
    "            if string[i] == '(':\n",
    "                table[i] = table[i-1];\n",
    "                tmp = tmp + 1;\n",
    "            elif string[i] == ')' and tmp != 0:\n",
    "                table[i] = 2+table[i-1];\n",
    "                tmp = tmp - 1;\n",
    "            elif string[i] == ')' and tmp == 0:\n",
    "                table[i] = table[i-1];\n",
    "        return table;\n",
    "\n",
    "result = longest_parenthese();\n",
    "string = ')))((())())';\n",
    "print(result.lps(string));"
   ]
  },
  {
   "cell_type": "code",
   "execution_count": 22,
   "metadata": {},
   "outputs": [
    {
     "name": "stdout",
     "output_type": "stream",
     "text": [
      "False\n"
     ]
    }
   ],
   "source": [
    "class wildcard_matching():\n",
    "    def wcm(self,pattern,string):\n",
    "        len1 = len(pattern);\n",
    "        len2 = len(string);\n",
    "        #initial table\n",
    "        table = [[None for x in range(len2+1)]for x in range(len1+1)];\n",
    "        table[0][0] = True;\n",
    "        if pattern[0] == '*':\n",
    "            table[1][0] = True;\n",
    "        else:\n",
    "            table[1][0] = False;\n",
    "        for i in range(2,len1+1):\n",
    "            if table[i-1][0] and pattern[i-1] == '*':\n",
    "                table[i][0] = True;\n",
    "            else:\n",
    "                table[i][0] = False;\n",
    "        for j in range(1,len2+1):\n",
    "            table[0][j] = False;\n",
    "        for i in range(1,len1+1):\n",
    "            for j in range(1,len2+1):\n",
    "                if pattern[i-1] == string[j-1] or pattern[i-1] == '?':\n",
    "                    table[i][j] = table[i-1][j-1];\n",
    "                elif pattern[i-1] != string[j-1] and pattern[i-1] != '*':\n",
    "                    table[i][j] = False;\n",
    "                elif pattern[i-1] == '*':\n",
    "                    if pattern[i-2] != string[j-1]:\n",
    "                        table[i][j] = table[i][j-1];\n",
    "                    elif pattern[i-2] == string[j-1]:\n",
    "                        table[i][j] = table[i-1][j];\n",
    "        return table[len1][len2];\n",
    "case = wildcard_matching();\n",
    "s = 'aa';\n",
    "p = 'a';\n",
    "print(case.wcm(p,s));\n",
    "    \n",
    "    \n",
    "    \n",
    "    "
   ]
  },
  {
   "cell_type": "markdown",
   "metadata": {},
   "source": [
    "## unique path"
   ]
  },
  {
   "cell_type": "code",
   "execution_count": null,
   "metadata": {},
   "outputs": [],
   "source": [
    "# unique path I\n",
    "class Solution(object):\n",
    "    def uniquePaths(self, m, n):\n",
    "        \"\"\"\n",
    "        :type m: int\n",
    "        :type n: int\n",
    "        :rtype: int\n",
    "        \"\"\"\n",
    "        table = [[None for x in range(n)] for x in range(m)];\n",
    "        #start point\n",
    "        table[0][0] = 0;\n",
    "        #set\n",
    "        for i in range(1,m):\n",
    "            table[i][0] = 1;\n",
    "        for j in range(1,n):\n",
    "            table[0][j] = 1;\n",
    "            \n",
    "        #dynamic_programming\n",
    "        for i in range(1,m):\n",
    "            for j in range(1,n):\n",
    "                table[i][j] = table[i-1][j] + table[i][j-1];\n",
    "        return table[m-1][n-1];\n",
    "    \n",
    "#unique path II\n",
    "class Solution(object):\n",
    "    def uniquePathsWithObstacles(self, obstacleGrid):\n",
    "        \"\"\"\n",
    "        :type obstacleGrid: List[List[int]]\n",
    "        :rtype: int\n",
    "        \"\"\"\n",
    "        len1 = len(obstacleGrid);\n",
    "        len2 = len(obstacleGrid[0]);\n",
    "        #initial table\n",
    "        table = [[0 for x in range(len2)] for x in range(len1)];\n",
    "        #set\n",
    "        if obstacleGrid[0][0] == 0:\n",
    "            table[0][0] = 1;\n",
    "        elif obstacleGrid[0][0] == 1:\n",
    "            table[0][0] = 0;\n",
    "        for i in range(1,len1):\n",
    "            if obstacleGrid[i][0] == 0:\n",
    "                table[i][0] = table[i-1][0];\n",
    "            elif obstacleGrid[i][0] == 1:\n",
    "                table[i][0] = 0;\n",
    "        for j in range(1,len2):\n",
    "            if obstacleGrid[0][j] == 1:\n",
    "                table[0][j] = 0;\n",
    "            elif obstacleGrid[0][j] != 1:\n",
    "                table[0][j] = table[0][j-1] and 1;\n",
    "        for i in range(1,len1):\n",
    "            for j in range(1,len2):\n",
    "                if obstacleGrid[i][j] == 1:\n",
    "                    table[i][j] = 0;\n",
    "                elif obstacleGrid[i][j] != 1:\n",
    "                    if obstacleGrid[i-1][j] != 1 and obstacleGrid[i][j-1] != 1:\n",
    "                        table[i][j] = table[i-1][j] + table[i][j-1];\n",
    "                    elif obstacleGrid[i-1][j] == 1 and obstacleGrid[i][j-1]!=1:\n",
    "                        table[i][j] = table[i][j-1];\n",
    "                    elif obstacleGrid[i][j-1] == 1 and obstacleGrid[i-1][j] != 1:\n",
    "                        table[i][j] = table[i-1][j];\n",
    "                    else:\n",
    "                        table[i][j] = 0;\n",
    "        return table[len1-1][len2-1];\n",
    "    \n",
    "#unique path III\n",
    "class Solution():\n",
    "    def uniquePathsIII(self, grid):\n",
    "        len1 = len(grid);\n",
    "        len2 = len(grid[0]);\n",
    "        \n",
    "        start =[];\n",
    "        empty = set();\n",
    "        for i in range(len1):\n",
    "            for j in range(len2):\n",
    "                if grid[i][j] == 1:\n",
    "                    start = [i,j];\n",
    "                elif grid[i][j] == 0:\n",
    "                    empty.add((i,j));\n",
    "        self.res = 0;\n",
    "        def dfs(i,j,cnt)\n",
    "            \n",
    "    \n",
    "    \n",
    "case = Solution();\n",
    "inp = [[1],[0],[0]]\n",
    "print(case.uniquePathsWithObstacles(inp))"
   ]
  },
  {
   "cell_type": "markdown",
   "metadata": {},
   "source": [
    "## Edit Distance"
   ]
  },
  {
   "cell_type": "code",
   "execution_count": 55,
   "metadata": {},
   "outputs": [],
   "source": [
    "class Solution():\n",
    "    def miniDistance(self,word1,word2):\n",
    "        len1 = len(word1);\n",
    "        len2 = len(word2);\n",
    "    \n",
    "        table = [[0 for _ in range(len2+1)] for _ in range(len1+1)];\n",
    "        \n",
    "        for i in range(len1+1):\n",
    "            table[i][0] = i;\n",
    "        if len2 == 0:\n",
    "            return table[len1][0];\n",
    "        for j in range(len2+1):\n",
    "            table[0][j] = j;\n",
    "        if len1 == 0:\n",
    "            return table[0][len2];\n",
    "        for i in range(1,len1+1):\n",
    "            for j in range(1,len2+1):\n",
    "                if word1[i] == word2[j]:\n",
    "                    table[i][j] = table[i-1][j-1];\n",
    "                elif word1[i] != word2[j]:\n",
    "                    table[i][j] = 1+min(table[i-1][j],table[i][j-1],table[i-1][j-1]);\n",
    "        return table[len1][len2];\n",
    "        "
   ]
  },
  {
   "cell_type": "markdown",
   "metadata": {},
   "source": [
    "## Largest Rectangle Histogram"
   ]
  },
  {
   "cell_type": "code",
   "execution_count": null,
   "metadata": {},
   "outputs": [],
   "source": [
    "class Solution():\n",
    "    def largestRectangleArea(self,heights):\n",
    "        heights.append(0);\n",
    "        stack = [-1];\n",
    "        result = 0;\n",
    "        leng = len(heights);\n",
    "        for i in range(leng):\n",
    "            while heights[i] < heights[stack[-1]]:\n",
    "                h = heights[stack.pop()];\n",
    "                w = i - stack[-1] - 1;\n",
    "                result = max(result,h*w);\n",
    "            stack.append(i);\n",
    "        #In the original code\n",
    "        #heights.pop() Dont know the use of this line\n",
    "        return result;\n",
    "case = Solution();\n",
    "heights = [2,1,5,6,2,3];\n",
    "print(case.largestRectangleArea(heights));"
   ]
  }
 ],
 "metadata": {
  "kernelspec": {
   "display_name": "Python 3",
   "language": "python",
   "name": "python3"
  },
  "language_info": {
   "codemirror_mode": {
    "name": "ipython",
    "version": 3
   },
   "file_extension": ".py",
   "mimetype": "text/x-python",
   "name": "python",
   "nbconvert_exporter": "python",
   "pygments_lexer": "ipython3",
   "version": "3.7.0"
  }
 },
 "nbformat": 4,
 "nbformat_minor": 2
}
